{
 "cells": [
  {
   "cell_type": "code",
   "execution_count": 1,
   "metadata": {},
   "outputs": [],
   "source": [
    "import torch\n",
    "import sys\n",
    "import matplotlib.pyplot as plt\n",
    "from sklearn import svm\n",
    "import numpy as np"
   ]
  },
  {
   "cell_type": "markdown",
   "metadata": {},
   "source": [
    "## Train set"
   ]
  },
  {
   "cell_type": "code",
   "execution_count": 2,
   "metadata": {},
   "outputs": [],
   "source": [
    "y, x = [], []\n",
    "with open('usps.train.txt') as f:\n",
    "    l = f.readline()\n",
    "    i = 0\n",
    "    while l:\n",
    "        res = l.split()\n",
    "        assert len(res[1:]) == 256, f'line {i} does not have 256 values'\n",
    "        y.append(int(res[0]))\n",
    "        x.append(torch.tensor([float(x.split(':')[1]) for x in res[1:]]))\n",
    "        \n",
    "        l = f.readline()\n",
    "        i += 1"
   ]
  },
  {
   "cell_type": "code",
   "execution_count": 3,
   "metadata": {},
   "outputs": [],
   "source": [
    "x = torch.cat(x).reshape(-1, 256)\n",
    "y = torch.tensor(y)"
   ]
  },
  {
   "cell_type": "code",
   "execution_count": 4,
   "metadata": {},
   "outputs": [],
   "source": [
    "#sys.getsizeof(x.storage())\n",
    "assert x.shape[0] == y.shape[0]\n",
    "assert x.shape[1] == 256"
   ]
  },
  {
   "cell_type": "code",
   "execution_count": 5,
   "metadata": {},
   "outputs": [],
   "source": [
    "mask = (y == 1) | (y == 2)\n",
    "x_subset = x[mask, :]\n",
    "y_subset = y[mask]\n",
    "y_subset = ((y_subset - 1) * 2) - 1"
   ]
  },
  {
   "cell_type": "code",
   "execution_count": 6,
   "metadata": {},
   "outputs": [
    {
     "data": {
      "text/plain": [
       "(torch.Size([2199, 256]), torch.Size([2199]))"
      ]
     },
     "execution_count": 6,
     "metadata": {},
     "output_type": "execute_result"
    }
   ],
   "source": [
    "# show subset shapes\n",
    "x_subset.shape, y_subset.shape"
   ]
  },
  {
   "cell_type": "code",
   "execution_count": 7,
   "metadata": {},
   "outputs": [
    {
     "data": {
      "image/png": "[encoded data removed]",
      "text/plain": [
       "<Figure size 576x288 with 2 Axes>"
      ]
     },
     "metadata": {
      "needs_background": "light"
     },
     "output_type": "display_data"
    }
   ],
   "source": [
    "fig, ax = plt.subplots(ncols=2, figsize=(8, 4))\n",
    "[ax[i].imshow(x_subset[i].reshape(16, -1)) for i in range(2)]\n",
    "[ax[i].set_xlabel(str(y_subset[i])) for i in range(2)]\n",
    "plt.show()"
   ]
  },
  {
   "cell_type": "markdown",
   "metadata": {},
   "source": [
    "## Test set"
   ]
  },
  {
   "cell_type": "code",
   "execution_count": 8,
   "metadata": {},
   "outputs": [],
   "source": [
    "y, x = [], []\n",
    "with open('usps.test.txt') as f:\n",
    "    l = f.readline()\n",
    "    i = 0\n",
    "    while l:\n",
    "        res = l.split()\n",
    "        assert len(res[1:]) == 256, f'line {i} does not have 256 values'\n",
    "        y.append(int(res[0]))\n",
    "        x.append(torch.tensor([float(x.split(':')[1]) for x in res[1:]]))\n",
    "        \n",
    "        l = f.readline()\n",
    "        i += 1\n",
    "        \n",
    "x = torch.cat(x).reshape(-1, 256)\n",
    "y = torch.tensor(y)\n",
    "\n",
    "#sys.getsizeof(x.storage())\n",
    "assert x.shape[0] == y.shape[0]\n",
    "assert x.shape[1] == 256\n",
    "\n",
    "mask = (y == 1) | (y == 2)\n",
    "x_test_subset = x[mask, :]\n",
    "y_test_subset = y[mask]\n",
    "y_test_subset = ((y_test_subset - 1) * 2) - 1"
   ]
  },
  {
   "cell_type": "code",
   "execution_count": 9,
   "metadata": {},
   "outputs": [
    {
     "data": {
      "text/plain": [
       "(torch.Size([623, 256]), torch.Size([623]))"
      ]
     },
     "execution_count": 9,
     "metadata": {},
     "output_type": "execute_result"
    }
   ],
   "source": [
    "# show subset shapes\n",
    "x_test_subset.shape, y_test_subset.shape"
   ]
  },
  {
   "cell_type": "code",
   "execution_count": 10,
   "metadata": {},
   "outputs": [
    {
     "data": {
      "image/png": "[encoded data removed]",
      "text/plain": [
       "<Figure size 576x288 with 3 Axes>"
      ]
     },
     "metadata": {
      "needs_background": "light"
     },
     "output_type": "display_data"
    }
   ],
   "source": [
    "fig, ax = plt.subplots(ncols=3, figsize=(8, 4))\n",
    "[ax[i].imshow(x_test_subset[i + 3].reshape(16, -1)) for i in range(3)]\n",
    "[ax[i].set_xlabel(str(y_test_subset[i + 3])) for i in range(3)]\n",
    "plt.show()"
   ]
  },
  {
   "cell_type": "code",
   "execution_count": 11,
   "metadata": {},
   "outputs": [],
   "source": [
    "# take classes 1 and 2 ('0' and '1') and remove too similar vectors (norm of difference > threshold)\n",
    "\n",
    "# the subset has to be normalized (?)"
   ]
  },
  {
   "cell_type": "code",
   "execution_count": 12,
   "metadata": {},
   "outputs": [
    {
     "data": {
      "text/plain": [
       "tensor([ 1, -1,  1, -1,  1,  1, -1,  1,  1,  1])"
      ]
     },
     "execution_count": 12,
     "metadata": {},
     "output_type": "execute_result"
    }
   ],
   "source": [
    "y_subset[:10]"
   ]
  },
  {
   "cell_type": "code",
   "execution_count": 13,
   "metadata": {},
   "outputs": [],
   "source": [
    "for i in range(1, len(y_subset)):\n",
    "    # check if current pattern is similar to the others before it\n",
    "    d = x_subset[:i] / x_subset[i]\n",
    "    d_var = d.var(axis=1)\n",
    "    if d_var.min() < 1e-3:\n",
    "        print(i, d_var.min())"
   ]
  },
  {
   "cell_type": "code",
   "execution_count": 14,
   "metadata": {},
   "outputs": [],
   "source": [
    "d = (x_subset / x_subset[0])\n",
    "d_var = d.var(axis=1)"
   ]
  },
  {
   "cell_type": "code",
   "execution_count": 15,
   "metadata": {},
   "outputs": [
    {
     "data": {
      "text/plain": [
       "tensor(1991)"
      ]
     },
     "execution_count": 15,
     "metadata": {},
     "output_type": "execute_result"
    }
   ],
   "source": [
    "d_var[1:].argmin()"
   ]
  },
  {
   "cell_type": "code",
   "execution_count": 16,
   "metadata": {},
   "outputs": [
    {
     "data": {
      "text/plain": [
       "tensor(0.0913)"
      ]
     },
     "execution_count": 16,
     "metadata": {},
     "output_type": "execute_result"
    }
   ],
   "source": [
    "d_var[1992]"
   ]
  },
  {
   "cell_type": "code",
   "execution_count": 17,
   "metadata": {},
   "outputs": [],
   "source": [
    "# for this minimum, compute the kernel between those two patterns and see whether how much it approaches 1"
   ]
  },
  {
   "cell_type": "code",
   "execution_count": 33,
   "metadata": {},
   "outputs": [],
   "source": [
    "d = {'x': x_subset, 'y': y_subset}\n",
    "torch.save(d, 'usps_train.pt')\n",
    "\n",
    "d = {'x': x_test_subset, 'y': y_test_subset}\n",
    "torch.save(d, 'usps_test.pt')"
   ]
  },
  {
   "cell_type": "code",
   "execution_count": 34,
   "metadata": {
    "scrolled": true
   },
   "outputs": [
    {
     "data": {
      "text/plain": [
       "{'x': tensor([[-1.0000, -1.0000, -1.0000,  ..., -1.0000, -1.0000, -1.0000],\n",
       "         [-1.0000, -1.0000, -0.9984,  ..., -0.9315, -0.9923, -0.9997],\n",
       "         [-1.0000, -1.0000, -1.0000,  ..., -1.0000, -1.0000, -1.0000],\n",
       "         ...,\n",
       "         [-1.0000, -1.0000, -1.0000,  ..., -1.0000, -1.0000, -1.0000],\n",
       "         [-1.0000, -0.9999, -0.9954,  ..., -0.9422, -0.9855, -0.9963],\n",
       "         [-1.0000, -1.0000, -0.9999,  ..., -1.0000, -1.0000, -1.0000]]),\n",
       " 'y': tensor([ 1, -1,  1,  ...,  1, -1,  1])}"
      ]
     },
     "execution_count": 34,
     "metadata": {},
     "output_type": "execute_result"
    }
   ],
   "source": [
    "d2 = torch.load('usps_train.pt')\n",
    "d2"
   ]
  },
  {
   "cell_type": "code",
   "execution_count": 35,
   "metadata": {},
   "outputs": [
    {
     "data": {
      "text/plain": [
       "{'x': tensor([[-1.0000, -1.0000, -1.0000,  ..., -0.8582, -0.9798, -0.9983],\n",
       "         [-1.0000, -1.0000, -0.9998,  ..., -0.9989, -1.0000, -1.0000],\n",
       "         [-1.0000, -1.0000, -0.9999,  ..., -0.9642, -0.9981, -1.0000],\n",
       "         ...,\n",
       "         [-0.9997, -0.9952, -0.9734,  ..., -0.9975, -0.9998, -1.0000],\n",
       "         [-0.9999, -0.9969, -0.9629,  ..., -0.9983, -0.9999, -1.0000],\n",
       "         [-1.0000, -1.0000, -1.0000,  ..., -1.0000, -1.0000, -1.0000]]),\n",
       " 'y': tensor([-1, -1, -1, -1,  1, -1, -1, -1, -1, -1, -1,  1, -1,  1, -1, -1,  1, -1,\n",
       "         -1, -1, -1,  1,  1, -1, -1,  1,  1, -1, -1, -1, -1, -1, -1, -1, -1, -1,\n",
       "         -1, -1,  1, -1,  1, -1, -1, -1,  1, -1,  1, -1, -1, -1, -1, -1, -1, -1,\n",
       "         -1,  1, -1, -1, -1,  1,  1, -1,  1, -1,  1, -1, -1,  1, -1, -1,  1, -1,\n",
       "         -1, -1, -1, -1,  1, -1,  1,  1,  1,  1, -1,  1, -1, -1, -1, -1,  1, -1,\n",
       "         -1,  1,  1, -1,  1,  1,  1, -1,  1, -1, -1, -1,  1,  1,  1,  1, -1,  1,\n",
       "         -1, -1, -1,  1,  1, -1, -1,  1,  1, -1, -1, -1,  1, -1, -1,  1,  1, -1,\n",
       "         -1, -1,  1,  1, -1,  1, -1,  1, -1,  1, -1,  1,  1, -1, -1, -1,  1,  1,\n",
       "         -1,  1,  1, -1, -1,  1, -1, -1,  1,  1, -1, -1,  1, -1, -1,  1, -1,  1,\n",
       "         -1, -1, -1,  1, -1, -1,  1,  1,  1, -1, -1, -1,  1,  1, -1, -1, -1, -1,\n",
       "         -1, -1, -1,  1, -1, -1, -1, -1,  1, -1, -1,  1,  1,  1, -1, -1,  1, -1,\n",
       "         -1,  1,  1, -1,  1, -1, -1, -1, -1, -1,  1, -1, -1, -1,  1, -1,  1,  1,\n",
       "          1,  1, -1, -1, -1,  1,  1, -1, -1,  1,  1,  1, -1, -1,  1, -1, -1, -1,\n",
       "          1, -1, -1, -1, -1, -1,  1, -1, -1, -1, -1, -1, -1,  1, -1, -1, -1, -1,\n",
       "          1, -1, -1, -1,  1,  1,  1, -1, -1,  1, -1,  1,  1, -1, -1,  1, -1,  1,\n",
       "         -1,  1, -1,  1, -1,  1,  1,  1,  1, -1,  1, -1, -1, -1, -1, -1, -1,  1,\n",
       "         -1,  1, -1, -1, -1, -1, -1,  1, -1,  1, -1, -1,  1,  1,  1, -1, -1,  1,\n",
       "          1,  1, -1, -1, -1, -1, -1,  1,  1, -1, -1,  1, -1, -1, -1, -1,  1, -1,\n",
       "          1,  1, -1,  1, -1, -1, -1, -1, -1,  1, -1, -1, -1, -1, -1, -1, -1,  1,\n",
       "          1,  1,  1, -1, -1, -1,  1, -1, -1, -1, -1, -1, -1, -1, -1,  1, -1, -1,\n",
       "         -1, -1, -1, -1,  1,  1,  1,  1, -1,  1, -1, -1, -1, -1, -1,  1,  1,  1,\n",
       "         -1,  1, -1,  1, -1, -1, -1,  1,  1, -1, -1,  1,  1,  1,  1, -1,  1, -1,\n",
       "          1,  1,  1,  1, -1, -1, -1, -1, -1, -1, -1, -1,  1,  1, -1,  1,  1,  1,\n",
       "         -1,  1, -1,  1,  1, -1, -1, -1, -1,  1, -1, -1, -1, -1,  1,  1, -1, -1,\n",
       "          1, -1, -1, -1,  1,  1, -1,  1, -1, -1, -1, -1, -1, -1,  1,  1,  1,  1,\n",
       "          1,  1, -1,  1,  1,  1,  1, -1, -1,  1,  1, -1,  1,  1,  1, -1,  1,  1,\n",
       "          1, -1,  1,  1,  1,  1,  1, -1, -1, -1, -1, -1,  1, -1, -1,  1, -1, -1,\n",
       "         -1, -1, -1, -1,  1, -1, -1, -1,  1, -1, -1,  1, -1,  1, -1,  1, -1, -1,\n",
       "          1,  1, -1,  1,  1,  1,  1, -1,  1, -1, -1,  1, -1,  1,  1,  1,  1, -1,\n",
       "          1, -1, -1, -1, -1,  1,  1, -1, -1,  1,  1,  1,  1,  1,  1,  1,  1,  1,\n",
       "          1, -1,  1,  1, -1,  1,  1,  1, -1,  1,  1, -1,  1, -1, -1, -1,  1, -1,\n",
       "          1,  1,  1,  1, -1,  1, -1,  1, -1,  1, -1,  1,  1, -1,  1,  1,  1, -1,\n",
       "         -1, -1, -1,  1, -1, -1,  1,  1, -1,  1, -1,  1, -1,  1,  1,  1, -1, -1,\n",
       "         -1,  1, -1, -1,  1, -1,  1,  1, -1,  1, -1,  1,  1,  1, -1, -1,  1,  1,\n",
       "         -1, -1, -1,  1,  1, -1, -1, -1, -1, -1,  1])}"
      ]
     },
     "execution_count": 35,
     "metadata": {},
     "output_type": "execute_result"
    }
   ],
   "source": [
    "d2 = torch.load('usps_test.pt')\n",
    "d2"
   ]
  },
  {
   "cell_type": "markdown",
   "metadata": {},
   "source": [
    "# Probe train a SVM classifier for several patterns"
   ]
  },
  {
   "cell_type": "code",
   "execution_count": 21,
   "metadata": {},
   "outputs": [
    {
     "name": "stdout",
     "output_type": "stream",
     "text": [
      "m: 15, n: 256\n"
     ]
    }
   ],
   "source": [
    "m, n = 15, x_subset.shape[1]\n",
    "x_train, y_train = x_subset[:m], y_subset[:m]\n",
    "print(f\"m: {m}, n: {n}\")"
   ]
  },
  {
   "cell_type": "code",
   "execution_count": 22,
   "metadata": {},
   "outputs": [
    {
     "name": "stdout",
     "output_type": "stream",
     "text": [
      "gamma_scale: 0.011012367904186249, gamma_auto: 0.00390625\n"
     ]
    }
   ],
   "source": [
    "gamma_scale = 1 / (n * x_train.var())\n",
    "gamma_auto = 1 / n\n",
    "print(f\"gamma_scale: {gamma_scale}, gamma_auto: {gamma_auto}\")"
   ]
  },
  {
   "cell_type": "code",
   "execution_count": 23,
   "metadata": {},
   "outputs": [
    {
     "name": "stdout",
     "output_type": "stream",
     "text": [
      "[ 1 -1  1 -1  1  1 -1  1  1  1  1 -1 -1 -1 -1]\n",
      "[10  7  4 ...  5  1  2]\n"
     ]
    }
   ],
   "source": [
    "# use scikitlearn classifier\n",
    "clf = svm.SVC(kernel='rbf', gamma=gamma_scale)\n",
    "clf.fit(x_train, y_train)\n",
    "\n",
    "res = clf.decision_function(x_train)\n",
    "print(2*(res > 0) - 1)\n",
    "print(y.numpy())"
   ]
  },
  {
   "cell_type": "code",
   "execution_count": 24,
   "metadata": {},
   "outputs": [
    {
     "name": "stdout",
     "output_type": "stream",
     "text": [
      "u: 3 x 4, (m x n)\n",
      "t: 2 x 4, (p x n)\n",
      "tensor([[[-1,  2,  2,  1],\n",
      "         [ 1,  3, -1,  3],\n",
      "         [ 4, -1,  4,  1]],\n",
      "\n",
      "        [[-1,  2,  2,  1],\n",
      "         [ 1,  3, -1,  3],\n",
      "         [ 4, -1,  4,  1]]])\n"
     ]
    }
   ],
   "source": [
    "# example of computing an asymmetric RBF kernel\n",
    "# let u be the x-es and t be the test\n",
    "# basically for the polynomial kernel we would have computed < t, u.T >\n",
    "u = torch.tensor([[-1, 2, 2, 1], [1, 3, -1, 3], [4, -1, 4, 1]])\n",
    "t = torch.tensor([[1, 2, 3, 4], [5, 6, 7, 8]])\n",
    "\n",
    "assert t.shape[1] == u.shape[1]\n",
    "\n",
    "m, n = u.shape\n",
    "p, n = t.shape\n",
    "print(f\"u: {m} x {n}, (m x n)\")\n",
    "print(f\"t: {p} x {n}, (p x n)\")\n",
    "a = u.repeat(p, 1).reshape(p, m, n)\n",
    "print(a)"
   ]
  },
  {
   "cell_type": "code",
   "execution_count": 25,
   "metadata": {},
   "outputs": [
    {
     "name": "stdout",
     "output_type": "stream",
     "text": [
      "tensor([[[1, 2, 3, 4],\n",
      "         [1, 2, 3, 4],\n",
      "         [1, 2, 3, 4]],\n",
      "\n",
      "        [[5, 6, 7, 8],\n",
      "         [5, 6, 7, 8],\n",
      "         [5, 6, 7, 8]]])\n"
     ]
    }
   ],
   "source": [
    "b = t.repeat_interleave(m, axis=0).reshape(p, m, n)\n",
    "print(b)"
   ]
  },
  {
   "cell_type": "code",
   "execution_count": 26,
   "metadata": {},
   "outputs": [
    {
     "data": {
      "text/plain": [
       "tensor([[ 3.7417,  4.2426,  5.2915],\n",
       "        [11.2250, 10.6771, 10.3923]])"
      ]
     },
     "execution_count": 26,
     "metadata": {},
     "output_type": "execute_result"
    }
   ],
   "source": [
    "torch.norm((a - b).float(), dim=2)"
   ]
  },
  {
   "cell_type": "code",
   "execution_count": 27,
   "metadata": {},
   "outputs": [],
   "source": [
    "def norm_diff_pairs(u, t):\n",
    "    \"\"\"    \n",
    "    Generates all pairs between matrices of vectors U and V and subtracts them\n",
    "    Dimensions: U (m x n), T (p x n)\n",
    "    \n",
    "    Will generate [[u1-t1, u2-t1 .. um-t1], .. [u1-tp, u2-tp .. um-tp]] (p x m)\n",
    "    \"\"\"\n",
    "    assert u.shape[1] == t.shape[1], 'matrices have to have same number of colums (features)'\n",
    "    m, n = u.shape\n",
    "    p, n = t.shape\n",
    "    \n",
    "    a = u.repeat(p, 1).reshape(p, m, n)\n",
    "    b = t.repeat_interleave(m, axis=0).reshape(p, m, n)\n",
    "    return torch.norm((a - b).float(), dim=2)"
   ]
  },
  {
   "cell_type": "code",
   "execution_count": 28,
   "metadata": {},
   "outputs": [
    {
     "data": {
      "text/plain": [
       "tensor([[ 3.7417,  4.2426,  5.2915],\n",
       "        [11.2250, 10.6771, 10.3923]])"
      ]
     },
     "execution_count": 28,
     "metadata": {},
     "output_type": "execute_result"
    }
   ],
   "source": [
    "norm_diff_pairs(u, t)"
   ]
  },
  {
   "cell_type": "code",
   "execution_count": 30,
   "metadata": {},
   "outputs": [
    {
     "name": "stdout",
     "output_type": "stream",
     "text": [
      "gamma: 0.011012367904186249\n",
      "[ 0.99984771 -0.99952101  0.99083516 -1.000125    1.08197294  1.06247191\n",
      " -1.00025255  0.68879462  0.99963269  1.04230669  1.03999591 -0.99945683\n",
      " -0.37714193 -1.000125   -1.07695517]\n",
      "[ 0.99984768 -0.99952098  0.99083508 -1.00012495  1.08197276  1.06247184\n",
      " -1.00025258  0.68879438  0.99963266  1.04230656  1.03999578 -0.99945685\n",
      " -0.37714199 -1.00012498 -1.07695519]\n"
     ]
    }
   ],
   "source": [
    "# now do the same with precomputed kernel\n",
    "m, n = x_train.shape\n",
    "\n",
    "gamma = gamma_scale\n",
    "print(f\"gamma: {gamma}\")\n",
    "\n",
    "kernel_train = torch.exp(- gamma * norm_diff_pairs(x_train, x_train) ** 2)\n",
    "assert kernel_train.shape == (m, m)\n",
    "\n",
    "svc = svm.SVC(kernel='precomputed', gamma=gamma)\n",
    "svc.fit(kernel_train, y_train)\n",
    "\n",
    "# visual comparison (identical)\n",
    "print(svc.decision_function(kernel_train))\n",
    "print(res)"
   ]
  },
  {
   "cell_type": "code",
   "execution_count": 31,
   "metadata": {},
   "outputs": [
    {
     "name": "stdout",
     "output_type": "stream",
     "text": [
      "[-0.98220467 -1.03438949 -1.0308142  -0.77326538  0.76350906]\n",
      "tensor([-1, -1, -1, -1,  1])\n"
     ]
    }
   ],
   "source": [
    "# now compute the kernel for the test set\n",
    "x_test, y_test = x_test_subset[:5], y_test_subset[:5]\n",
    "\n",
    "kernel_test = torch.exp(- gamma * norm_diff_pairs(x_train, x_test) ** 2)\n",
    "\n",
    "print(svc.decision_function(kernel_test))\n",
    "print(y_test)"
   ]
  },
  {
   "cell_type": "markdown",
   "metadata": {},
   "source": [
    "## Small callable example"
   ]
  },
  {
   "cell_type": "code",
   "execution_count": 32,
   "metadata": {},
   "outputs": [
    {
     "name": "stdout",
     "output_type": "stream",
     "text": [
      "3\n",
      "4\n"
     ]
    }
   ],
   "source": [
    "class C:\n",
    "    def __call__(self, *args, **kwargs):\n",
    "        self.compute(*args, **kwargs)\n",
    "        \n",
    "    def compute(self, x):\n",
    "        print(x)\n",
    "        \n",
    "c = C()\n",
    "c(3)\n",
    "c(x=4)"
   ]
  },
  {
   "cell_type": "code",
   "execution_count": 2,
   "metadata": {},
   "outputs": [],
   "source": [
    "d = torch.load('KDDCup1999.pt')"
   ]
  },
  {
   "cell_type": "code",
   "execution_count": 3,
   "metadata": {},
   "outputs": [
    {
     "data": {
      "text/plain": [
       "torch.Size([290858, 120])"
      ]
     },
     "execution_count": 3,
     "metadata": {},
     "output_type": "execute_result"
    }
   ],
   "source": [
    "d['x'].shape"
   ]
  },
  {
   "cell_type": "code",
   "execution_count": null,
   "metadata": {},
   "outputs": [],
   "source": []
  }
 ],
 "metadata": {
  "kernelspec": {
   "display_name": "Python 3",
   "language": "python",
   "name": "python3"
  },
  "language_info": {
   "codemirror_mode": {
    "name": "ipython",
    "version": 3
   },
   "file_extension": ".py",
   "mimetype": "text/x-python",
   "name": "python",
   "nbconvert_exporter": "python",
   "pygments_lexer": "ipython3",
   "version": "3.6.9"
  }
 },
 "nbformat": 4,
 "nbformat_minor": 2
}
